{
 "cells": [
  {
   "cell_type": "code",
   "execution_count": 1,
   "id": "843703d2-6e72-446e-91dd-a5cb6831b0eb",
   "metadata": {},
   "outputs": [
    {
     "data": {
      "text/plain": [
       "9"
      ]
     },
     "execution_count": 1,
     "metadata": {},
     "output_type": "execute_result"
    }
   ],
   "source": [
    "#sum of two number\n",
    "a=3\n",
    "b=6\n",
    "a+b"
   ]
  },
  {
   "cell_type": "code",
   "execution_count": 2,
   "id": "31d2f9f9-0709-4f35-baea-73b2fb0652e8",
   "metadata": {},
   "outputs": [
    {
     "data": {
      "text/plain": [
       "5"
      ]
     },
     "execution_count": 2,
     "metadata": {},
     "output_type": "execute_result"
    }
   ],
   "source": [
    "#substraction of two operator\n",
    "a=10\n",
    "b=5\n",
    "a-b"
   ]
  },
  {
   "cell_type": "code",
   "execution_count": 3,
   "id": "2a5778c3-e6f9-46cc-880b-d4d2d29b835f",
   "metadata": {},
   "outputs": [
    {
     "data": {
      "text/plain": [
       "66"
      ]
     },
     "execution_count": 3,
     "metadata": {},
     "output_type": "execute_result"
    }
   ],
   "source": [
    "#multiplication of two number\n",
    "a=6\n",
    "b=11\n",
    "a*b"
   ]
  },
  {
   "cell_type": "code",
   "execution_count": 4,
   "id": "1513438e-2510-4cc9-9bcd-305e18817343",
   "metadata": {},
   "outputs": [
    {
     "data": {
      "text/plain": [
       "20.0"
      ]
     },
     "execution_count": 4,
     "metadata": {},
     "output_type": "execute_result"
    }
   ],
   "source": [
    "#quotient of two number\n",
    "a=100\n",
    "b=5\n",
    "a/b"
   ]
  },
  {
   "cell_type": "code",
   "execution_count": 6,
   "id": "cf083119-1cde-4bf6-ac34-6483fa3437b4",
   "metadata": {},
   "outputs": [
    {
     "data": {
      "text/plain": [
       "4"
      ]
     },
     "execution_count": 6,
     "metadata": {},
     "output_type": "execute_result"
    }
   ],
   "source": [
    "#modulus operator\n",
    "a=400\n",
    "b=6\n",
    "a%b"
   ]
  },
  {
   "cell_type": "code",
   "execution_count": 7,
   "id": "6ae08436-a74e-4f06-89f1-ae5209e0958c",
   "metadata": {},
   "outputs": [
    {
     "data": {
      "text/plain": [
       "2"
      ]
     },
     "execution_count": 7,
     "metadata": {},
     "output_type": "execute_result"
    }
   ],
   "source": [
    "#assignment operations\n",
    "#simple assignment\n",
    "x=2\n",
    "x"
   ]
  },
  {
   "cell_type": "code",
   "execution_count": 10,
   "id": "86718215-e628-43ac-a681-2b7bb069f2fe",
   "metadata": {},
   "outputs": [
    {
     "name": "stdout",
     "output_type": "stream",
     "text": [
      "9\n"
     ]
    }
   ],
   "source": [
    "#Addition Assignment\n",
    "a=6\n",
    "a += 3\n",
    "print(a)"
   ]
  },
  {
   "cell_type": "code",
   "execution_count": 13,
   "id": "0d99d044-ba87-440e-aea7-3fe371790572",
   "metadata": {},
   "outputs": [
    {
     "name": "stdout",
     "output_type": "stream",
     "text": [
      "40\n"
     ]
    }
   ],
   "source": [
    "#Subtraction Assignment\n",
    "y = 45\n",
    "y -= 5\n",
    "print(y)"
   ]
  },
  {
   "cell_type": "code",
   "execution_count": 14,
   "id": "80be76ff-f549-4bfb-a847-28757ead4c88",
   "metadata": {},
   "outputs": [
    {
     "name": "stdout",
     "output_type": "stream",
     "text": [
      "14\n"
     ]
    }
   ],
   "source": [
    "#Multiplication Assignment\n",
    "z=2\n",
    "z*=7\n",
    "print(z)"
   ]
  },
  {
   "cell_type": "code",
   "execution_count": 15,
   "id": "3ded7a8a-a622-473e-a8c0-997c37ebe7ec",
   "metadata": {},
   "outputs": [
    {
     "name": "stdout",
     "output_type": "stream",
     "text": [
      "10.0\n"
     ]
    }
   ],
   "source": [
    "#Division Assignment\n",
    "x=20\n",
    "x/=2\n",
    "print(x)"
   ]
  },
  {
   "cell_type": "code",
   "execution_count": 17,
   "id": "9dd56c85-ee73-4892-85d5-e04fd9a0d4aa",
   "metadata": {},
   "outputs": [
    {
     "name": "stdout",
     "output_type": "stream",
     "text": [
      "1\n"
     ]
    }
   ],
   "source": [
    "#Modulus Assignment \n",
    "b = 33\n",
    "b%= 4\n",
    "print(b)"
   ]
  },
  {
   "cell_type": "code",
   "execution_count": 18,
   "id": "23c060ca-e861-41f3-bdcc-15c26a06024f",
   "metadata": {},
   "outputs": [
    {
     "data": {
      "text/plain": [
       "True"
      ]
     },
     "execution_count": 18,
     "metadata": {},
     "output_type": "execute_result"
    }
   ],
   "source": [
    "#comparasion operator\n",
    "4==4"
   ]
  },
  {
   "cell_type": "code",
   "execution_count": 19,
   "id": "94b72108-5088-42b7-858b-715e26e6e072",
   "metadata": {},
   "outputs": [
    {
     "data": {
      "text/plain": [
       "False"
      ]
     },
     "execution_count": 19,
     "metadata": {},
     "output_type": "execute_result"
    }
   ],
   "source": [
    "5==2"
   ]
  },
  {
   "cell_type": "code",
   "execution_count": 20,
   "id": "c856e50a-4a40-428b-913e-a4dd73eb6d10",
   "metadata": {},
   "outputs": [
    {
     "data": {
      "text/plain": [
       "True"
      ]
     },
     "execution_count": 20,
     "metadata": {},
     "output_type": "execute_result"
    }
   ],
   "source": [
    "5!=2"
   ]
  },
  {
   "cell_type": "code",
   "execution_count": 21,
   "id": "909a1f8d-aa45-451f-91bc-5c6ccc9e1185",
   "metadata": {},
   "outputs": [
    {
     "data": {
      "text/plain": [
       "True"
      ]
     },
     "execution_count": 21,
     "metadata": {},
     "output_type": "execute_result"
    }
   ],
   "source": [
    "5>=2"
   ]
  },
  {
   "cell_type": "code",
   "execution_count": 22,
   "id": "778f29e9-cbed-4df2-9d5c-17282a58b38c",
   "metadata": {},
   "outputs": [
    {
     "data": {
      "text/plain": [
       "False"
      ]
     },
     "execution_count": 22,
     "metadata": {},
     "output_type": "execute_result"
    }
   ],
   "source": [
    "5<=2"
   ]
  },
  {
   "cell_type": "code",
   "execution_count": 23,
   "id": "c42364e0-7d8d-477d-9b92-25ec319f5e51",
   "metadata": {},
   "outputs": [
    {
     "data": {
      "text/plain": [
       "False"
      ]
     },
     "execution_count": 23,
     "metadata": {},
     "output_type": "execute_result"
    }
   ],
   "source": [
    "5>=7"
   ]
  },
  {
   "cell_type": "code",
   "execution_count": 24,
   "id": "7f876ccd-5d06-4947-91a6-391bc8fcf5af",
   "metadata": {},
   "outputs": [
    {
     "data": {
      "text/plain": [
       "True"
      ]
     },
     "execution_count": 24,
     "metadata": {},
     "output_type": "execute_result"
    }
   ],
   "source": [
    "5<=7"
   ]
  },
  {
   "cell_type": "code",
   "execution_count": 25,
   "id": "0cb14ef5-d519-4942-9a36-f8fe4ed8a241",
   "metadata": {},
   "outputs": [
    {
     "data": {
      "text/plain": [
       "True"
      ]
     },
     "execution_count": 25,
     "metadata": {},
     "output_type": "execute_result"
    }
   ],
   "source": [
    "#logical operator\n",
    "#and\n",
    "True and True"
   ]
  },
  {
   "cell_type": "code",
   "execution_count": 26,
   "id": "c11fd380-9224-4799-81b2-4f7ba315d382",
   "metadata": {},
   "outputs": [
    {
     "data": {
      "text/plain": [
       "False"
      ]
     },
     "execution_count": 26,
     "metadata": {},
     "output_type": "execute_result"
    }
   ],
   "source": [
    "True and False"
   ]
  },
  {
   "cell_type": "code",
   "execution_count": 27,
   "id": "453ae3fc-a0ca-456a-a758-2f848d31827c",
   "metadata": {},
   "outputs": [
    {
     "data": {
      "text/plain": [
       "False"
      ]
     },
     "execution_count": 27,
     "metadata": {},
     "output_type": "execute_result"
    }
   ],
   "source": [
    "False and True"
   ]
  },
  {
   "cell_type": "code",
   "execution_count": 28,
   "id": "18cbf595-dbaa-4cab-8e81-c347114c68d4",
   "metadata": {},
   "outputs": [
    {
     "data": {
      "text/plain": [
       "False"
      ]
     },
     "execution_count": 28,
     "metadata": {},
     "output_type": "execute_result"
    }
   ],
   "source": [
    "False and False"
   ]
  },
  {
   "cell_type": "code",
   "execution_count": 29,
   "id": "292317f5-8155-4931-8756-4d29298122d0",
   "metadata": {},
   "outputs": [
    {
     "data": {
      "text/plain": [
       "True"
      ]
     },
     "execution_count": 29,
     "metadata": {},
     "output_type": "execute_result"
    }
   ],
   "source": [
    "#or\n",
    "True or True"
   ]
  },
  {
   "cell_type": "code",
   "execution_count": 31,
   "id": "4176530c-08d6-464f-87e8-8ad1efb900b7",
   "metadata": {},
   "outputs": [
    {
     "data": {
      "text/plain": [
       "True"
      ]
     },
     "execution_count": 31,
     "metadata": {},
     "output_type": "execute_result"
    }
   ],
   "source": [
    "True or False"
   ]
  },
  {
   "cell_type": "code",
   "execution_count": 32,
   "id": "eff4a920-ca1a-4b0b-a982-fc2beda2d64d",
   "metadata": {},
   "outputs": [
    {
     "data": {
      "text/plain": [
       "True"
      ]
     },
     "execution_count": 32,
     "metadata": {},
     "output_type": "execute_result"
    }
   ],
   "source": [
    "False or True"
   ]
  },
  {
   "cell_type": "code",
   "execution_count": 33,
   "id": "e33c2556-a446-4c5a-bf16-9d9892a2eb7b",
   "metadata": {},
   "outputs": [
    {
     "data": {
      "text/plain": [
       "False"
      ]
     },
     "execution_count": 33,
     "metadata": {},
     "output_type": "execute_result"
    }
   ],
   "source": [
    "False or False"
   ]
  },
  {
   "cell_type": "code",
   "execution_count": 1,
   "id": "50206976-b1b6-4bae-ad55-d4963fd3f19d",
   "metadata": {},
   "outputs": [
    {
     "data": {
      "text/plain": [
       "False"
      ]
     },
     "execution_count": 1,
     "metadata": {},
     "output_type": "execute_result"
    }
   ],
   "source": [
    "#not\n",
    "not True"
   ]
  },
  {
   "cell_type": "code",
   "execution_count": 2,
   "id": "bc176f83-1b1b-4693-b645-91b86e239a38",
   "metadata": {},
   "outputs": [
    {
     "data": {
      "text/plain": [
       "True"
      ]
     },
     "execution_count": 2,
     "metadata": {},
     "output_type": "execute_result"
    }
   ],
   "source": [
    "not False"
   ]
  },
  {
   "cell_type": "code",
   "execution_count": 3,
   "id": "ea8d7cf8-02ac-49e1-9e9d-8905947f5b43",
   "metadata": {},
   "outputs": [],
   "source": [
    "#identity operator\n",
    "a=100\n",
    "b=a"
   ]
  },
  {
   "cell_type": "code",
   "execution_count": 4,
   "id": "d51a8d77-4af7-4220-ad04-647d9f53530d",
   "metadata": {},
   "outputs": [
    {
     "data": {
      "text/plain": [
       "True"
      ]
     },
     "execution_count": 4,
     "metadata": {},
     "output_type": "execute_result"
    }
   ],
   "source": [
    "b is a"
   ]
  },
  {
   "cell_type": "code",
   "execution_count": 5,
   "id": "2187a443-c960-45c8-ae37-3142d0c9a4ac",
   "metadata": {},
   "outputs": [],
   "source": [
    "c=33\n",
    "d=34"
   ]
  },
  {
   "cell_type": "code",
   "execution_count": 6,
   "id": "83367b05-d3f1-43f4-b2c0-4d89225355fd",
   "metadata": {},
   "outputs": [
    {
     "data": {
      "text/plain": [
       "False"
      ]
     },
     "execution_count": 6,
     "metadata": {},
     "output_type": "execute_result"
    }
   ],
   "source": [
    "c is d"
   ]
  },
  {
   "cell_type": "code",
   "execution_count": 7,
   "id": "94895902-7c7f-4eed-b135-e51fcb935a5b",
   "metadata": {},
   "outputs": [],
   "source": [
    "x = 5\n",
    "y =6"
   ]
  },
  {
   "cell_type": "code",
   "execution_count": 8,
   "id": "e5514651-6b61-4cae-8747-7ebdd0cc361e",
   "metadata": {},
   "outputs": [
    {
     "data": {
      "text/plain": [
       "True"
      ]
     },
     "execution_count": 8,
     "metadata": {},
     "output_type": "execute_result"
    }
   ],
   "source": [
    "x is not y"
   ]
  },
  {
   "cell_type": "code",
   "execution_count": 9,
   "id": "289e70fd-5b3c-4c39-a3ec-963c3bce5f00",
   "metadata": {},
   "outputs": [
    {
     "data": {
      "text/plain": [
       "5"
      ]
     },
     "execution_count": 9,
     "metadata": {},
     "output_type": "execute_result"
    }
   ],
   "source": [
    "#bitwise operator\n",
    "#and condition\n",
    "5&5"
   ]
  },
  {
   "cell_type": "code",
   "execution_count": 11,
   "id": "99d79cdf-2e33-40f1-b1c0-b1074c3b711d",
   "metadata": {},
   "outputs": [
    {
     "data": {
      "text/plain": [
       "4"
      ]
     },
     "execution_count": 11,
     "metadata": {},
     "output_type": "execute_result"
    }
   ],
   "source": [
    "12 & 4"
   ]
  },
  {
   "cell_type": "code",
   "execution_count": 12,
   "id": "ae11f174-c22e-47ff-b619-85d69503bc19",
   "metadata": {},
   "outputs": [
    {
     "data": {
      "text/plain": [
       "7"
      ]
     },
     "execution_count": 12,
     "metadata": {},
     "output_type": "execute_result"
    }
   ],
   "source": [
    "#or condition\n",
    "3 | 5"
   ]
  },
  {
   "cell_type": "code",
   "execution_count": 14,
   "id": "16881575-27e8-4d6a-b9d9-b0e49ee3b16b",
   "metadata": {},
   "outputs": [
    {
     "data": {
      "text/plain": [
       "5"
      ]
     },
     "execution_count": 14,
     "metadata": {},
     "output_type": "execute_result"
    }
   ],
   "source": [
    "#xor condition\n",
    "6^3"
   ]
  },
  {
   "cell_type": "code",
   "execution_count": 15,
   "id": "f07fcba2-8a84-484a-a941-0bca3dad456a",
   "metadata": {},
   "outputs": [
    {
     "data": {
      "text/plain": [
       "-7"
      ]
     },
     "execution_count": 15,
     "metadata": {},
     "output_type": "execute_result"
    }
   ],
   "source": [
    "#negation\n",
    "~6"
   ]
  },
  {
   "cell_type": "code",
   "execution_count": 16,
   "id": "95f5a4d9-4517-4876-aa4c-eb315d462861",
   "metadata": {},
   "outputs": [
    {
     "name": "stdout",
     "output_type": "stream",
     "text": [
      "-23\n"
     ]
    }
   ],
   "source": [
    "#unary operator\n",
    "x = 23\n",
    "y = -x\n",
    "print(y)"
   ]
  },
  {
   "cell_type": "code",
   "execution_count": 17,
   "id": "7fdfab3f-a506-4643-ba95-3104c54f1506",
   "metadata": {},
   "outputs": [
    {
     "name": "stdout",
     "output_type": "stream",
     "text": [
      "9\n"
     ]
    }
   ],
   "source": [
    "x = -9\n",
    "y= -x\n",
    "print(y)"
   ]
  },
  {
   "cell_type": "code",
   "execution_count": 19,
   "id": "d809cbb6-be27-4715-bcaa-e6654135bde2",
   "metadata": {},
   "outputs": [
    {
     "name": "stdout",
     "output_type": "stream",
     "text": [
      "Divisible by 5\n"
     ]
    }
   ],
   "source": [
    "#ternary operator\n",
    "x = 15\n",
    "y = 'Divisible by 5' if x % 5 == 0 else 'Even' if x % 2 == 0 else 'Odd'\n",
    "print(y)"
   ]
  },
  {
   "cell_type": "code",
   "execution_count": 20,
   "id": "4ba2ff77-0eb0-4e89-b34a-64605329cd83",
   "metadata": {},
   "outputs": [
    {
     "name": "stdout",
     "output_type": "stream",
     "text": [
      "Adult\n"
     ]
    }
   ],
   "source": [
    "age = 20\n",
    "is_adult = \"Adult\" if age >= 18 else \"Minor\"\n",
    "print(is_adult) "
   ]
  },
  {
   "cell_type": "code",
   "execution_count": null,
   "id": "1945a45e-88ea-48ee-807c-562eab231361",
   "metadata": {},
   "outputs": [],
   "source": []
  }
 ],
 "metadata": {
  "kernelspec": {
   "display_name": "Python 3 (ipykernel)",
   "language": "python",
   "name": "python3"
  },
  "language_info": {
   "codemirror_mode": {
    "name": "ipython",
    "version": 3
   },
   "file_extension": ".py",
   "mimetype": "text/x-python",
   "name": "python",
   "nbconvert_exporter": "python",
   "pygments_lexer": "ipython3",
   "version": "3.10.8"
  }
 },
 "nbformat": 4,
 "nbformat_minor": 5
}
